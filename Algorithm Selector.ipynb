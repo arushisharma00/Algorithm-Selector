{
 "cells": [
  {
   "cell_type": "code",
   "execution_count": 1,
   "metadata": {},
   "outputs": [],
   "source": [
    "import numpy as np\n",
    "import pandas as pd \n",
    "import matplotlib.pyplot as plt\n",
    "import seaborn as sns\n",
    "from tqdm import tqdm "
   ]
  },
  {
   "cell_type": "markdown",
   "metadata": {},
   "source": [
    "# DATA"
   ]
  },
  {
   "cell_type": "code",
   "execution_count": 2,
   "metadata": {
    "scrolled": true
   },
   "outputs": [
    {
     "data": {
      "text/html": [
       "<div>\n",
       "<style scoped>\n",
       "    .dataframe tbody tr th:only-of-type {\n",
       "        vertical-align: middle;\n",
       "    }\n",
       "\n",
       "    .dataframe tbody tr th {\n",
       "        vertical-align: top;\n",
       "    }\n",
       "\n",
       "    .dataframe thead th {\n",
       "        text-align: right;\n",
       "    }\n",
       "</style>\n",
       "<table border=\"1\" class=\"dataframe\">\n",
       "  <thead>\n",
       "    <tr style=\"text-align: right;\">\n",
       "      <th></th>\n",
       "      <th>fixed acidity</th>\n",
       "      <th>volatile acidity</th>\n",
       "      <th>citric acid</th>\n",
       "      <th>residual sugar</th>\n",
       "      <th>chlorides</th>\n",
       "      <th>free sulfur dioxide</th>\n",
       "      <th>total sulfur dioxide</th>\n",
       "      <th>density</th>\n",
       "      <th>pH</th>\n",
       "      <th>sulphates</th>\n",
       "      <th>alcohol</th>\n",
       "      <th>quality</th>\n",
       "    </tr>\n",
       "  </thead>\n",
       "  <tbody>\n",
       "    <tr>\n",
       "      <th>0</th>\n",
       "      <td>7.4</td>\n",
       "      <td>0.70</td>\n",
       "      <td>0.00</td>\n",
       "      <td>1.9</td>\n",
       "      <td>0.076</td>\n",
       "      <td>11.0</td>\n",
       "      <td>34.0</td>\n",
       "      <td>0.9978</td>\n",
       "      <td>3.51</td>\n",
       "      <td>0.56</td>\n",
       "      <td>9.4</td>\n",
       "      <td>5</td>\n",
       "    </tr>\n",
       "    <tr>\n",
       "      <th>1</th>\n",
       "      <td>7.8</td>\n",
       "      <td>0.88</td>\n",
       "      <td>0.00</td>\n",
       "      <td>2.6</td>\n",
       "      <td>0.098</td>\n",
       "      <td>25.0</td>\n",
       "      <td>67.0</td>\n",
       "      <td>0.9968</td>\n",
       "      <td>3.20</td>\n",
       "      <td>0.68</td>\n",
       "      <td>9.8</td>\n",
       "      <td>5</td>\n",
       "    </tr>\n",
       "    <tr>\n",
       "      <th>2</th>\n",
       "      <td>7.8</td>\n",
       "      <td>0.76</td>\n",
       "      <td>0.04</td>\n",
       "      <td>2.3</td>\n",
       "      <td>0.092</td>\n",
       "      <td>15.0</td>\n",
       "      <td>54.0</td>\n",
       "      <td>0.9970</td>\n",
       "      <td>3.26</td>\n",
       "      <td>0.65</td>\n",
       "      <td>9.8</td>\n",
       "      <td>5</td>\n",
       "    </tr>\n",
       "    <tr>\n",
       "      <th>3</th>\n",
       "      <td>11.2</td>\n",
       "      <td>0.28</td>\n",
       "      <td>0.56</td>\n",
       "      <td>1.9</td>\n",
       "      <td>0.075</td>\n",
       "      <td>17.0</td>\n",
       "      <td>60.0</td>\n",
       "      <td>0.9980</td>\n",
       "      <td>3.16</td>\n",
       "      <td>0.58</td>\n",
       "      <td>9.8</td>\n",
       "      <td>6</td>\n",
       "    </tr>\n",
       "    <tr>\n",
       "      <th>4</th>\n",
       "      <td>7.4</td>\n",
       "      <td>0.70</td>\n",
       "      <td>0.00</td>\n",
       "      <td>1.9</td>\n",
       "      <td>0.076</td>\n",
       "      <td>11.0</td>\n",
       "      <td>34.0</td>\n",
       "      <td>0.9978</td>\n",
       "      <td>3.51</td>\n",
       "      <td>0.56</td>\n",
       "      <td>9.4</td>\n",
       "      <td>5</td>\n",
       "    </tr>\n",
       "  </tbody>\n",
       "</table>\n",
       "</div>"
      ],
      "text/plain": [
       "   fixed acidity  volatile acidity  citric acid  residual sugar  chlorides  \\\n",
       "0            7.4              0.70         0.00             1.9      0.076   \n",
       "1            7.8              0.88         0.00             2.6      0.098   \n",
       "2            7.8              0.76         0.04             2.3      0.092   \n",
       "3           11.2              0.28         0.56             1.9      0.075   \n",
       "4            7.4              0.70         0.00             1.9      0.076   \n",
       "\n",
       "   free sulfur dioxide  total sulfur dioxide  density    pH  sulphates  \\\n",
       "0                 11.0                  34.0   0.9978  3.51       0.56   \n",
       "1                 25.0                  67.0   0.9968  3.20       0.68   \n",
       "2                 15.0                  54.0   0.9970  3.26       0.65   \n",
       "3                 17.0                  60.0   0.9980  3.16       0.58   \n",
       "4                 11.0                  34.0   0.9978  3.51       0.56   \n",
       "\n",
       "   alcohol  quality  \n",
       "0      9.4        5  \n",
       "1      9.8        5  \n",
       "2      9.8        5  \n",
       "3      9.8        6  \n",
       "4      9.4        5  "
      ]
     },
     "execution_count": 2,
     "metadata": {},
     "output_type": "execute_result"
    }
   ],
   "source": [
    "data = pd.read_csv(\"winequality-red.csv\") \n",
    "\n",
    "data.head()"
   ]
  },
  {
   "cell_type": "markdown",
   "metadata": {},
   "source": [
    "# ABOUT THE DATA"
   ]
  },
  {
   "cell_type": "code",
   "execution_count": 3,
   "metadata": {},
   "outputs": [
    {
     "name": "stdout",
     "output_type": "stream",
     "text": [
      "List of columns in the data:\n",
      " Index(['fixed acidity', 'volatile acidity', 'citric acid', 'residual sugar',\n",
      "       'chlorides', 'free sulfur dioxide', 'total sulfur dioxide', 'density',\n",
      "       'pH', 'sulphates', 'alcohol', 'quality'],\n",
      "      dtype='object') \n",
      "\n",
      "Shape of the dataset is:\n",
      " (1599, 12) \n",
      "\n",
      "Column-wise data descrption:\n",
      "        fixed acidity  volatile acidity  citric acid  residual sugar  \\\n",
      "count    1599.000000       1599.000000  1599.000000     1599.000000   \n",
      "mean        8.319637          0.527821     0.270976        2.538806   \n",
      "std         1.741096          0.179060     0.194801        1.409928   \n",
      "min         4.600000          0.120000     0.000000        0.900000   \n",
      "25%         7.100000          0.390000     0.090000        1.900000   \n",
      "50%         7.900000          0.520000     0.260000        2.200000   \n",
      "75%         9.200000          0.640000     0.420000        2.600000   \n",
      "max        15.900000          1.580000     1.000000       15.500000   \n",
      "\n",
      "         chlorides  free sulfur dioxide  total sulfur dioxide      density  \\\n",
      "count  1599.000000          1599.000000           1599.000000  1599.000000   \n",
      "mean      0.087467            15.874922             46.467792     0.996747   \n",
      "std       0.047065            10.460157             32.895324     0.001887   \n",
      "min       0.012000             1.000000              6.000000     0.990070   \n",
      "25%       0.070000             7.000000             22.000000     0.995600   \n",
      "50%       0.079000            14.000000             38.000000     0.996750   \n",
      "75%       0.090000            21.000000             62.000000     0.997835   \n",
      "max       0.611000            72.000000            289.000000     1.003690   \n",
      "\n",
      "                pH    sulphates      alcohol      quality  \n",
      "count  1599.000000  1599.000000  1599.000000  1599.000000  \n",
      "mean      3.311113     0.658149    10.422983     5.636023  \n",
      "std       0.154386     0.169507     1.065668     0.807569  \n",
      "min       2.740000     0.330000     8.400000     3.000000  \n",
      "25%       3.210000     0.550000     9.500000     5.000000  \n",
      "50%       3.310000     0.620000    10.200000     6.000000  \n",
      "75%       3.400000     0.730000    11.100000     6.000000  \n",
      "max       4.010000     2.000000    14.900000     8.000000   \n",
      "\n",
      "Column-wise graphical representation of data :\n",
      "\n"
     ]
    },
    {
     "data": {
      "image/png": "[encoded data removed]",
      "text/plain": [
       "<Figure size 1440x1440 with 12 Axes>"
      ]
     },
     "metadata": {
      "needs_background": "light"
     },
     "output_type": "display_data"
    }
   ],
   "source": [
    "print(\"List of columns in the data:\\n\",data.columns,\"\\n\")\n",
    "print(\"Shape of the dataset is:\\n\",data.shape,\"\\n\")\n",
    "print(\"Column-wise data descrption:\\n\",data.describe(),\"\\n\")\n",
    "# Plot histograms of each parameter \n",
    "hist=data.hist(figsize = (20, 20))\n",
    "print(\"Column-wise graphical representation of data :\\n\")\n",
    "hist\n",
    "plt.show()\n"
   ]
  },
  {
   "cell_type": "code",
   "execution_count": 4,
   "metadata": {},
   "outputs": [
    {
     "name": "stdout",
     "output_type": "stream",
     "text": [
      "The correlation matrix representation and its heatmap for the data: \n",
      "\n"
     ]
    },
    {
     "data": {
      "image/png": "[encoded data removed]",
      "text/plain": [
       "<Figure size 864x648 with 2 Axes>"
      ]
     },
     "metadata": {
      "needs_background": "light"
     },
     "output_type": "display_data"
    }
   ],
   "source": [
    "print(\"The correlation matrix representation and its heatmap for the data: \\n\")\n",
    "corrmat = data.corr()\n",
    "fig = plt.figure(figsize = (12, 9))\n",
    "sns.heatmap(corrmat, vmax = .8, square = True)\n",
    "plt.show()"
   ]
  },
  {
   "cell_type": "markdown",
   "metadata": {},
   "source": [
    "# REMOVE NAN VALUES"
   ]
  },
  {
   "cell_type": "code",
   "execution_count": 5,
   "metadata": {},
   "outputs": [],
   "source": [
    "data=data.dropna(how = 'any')"
   ]
  },
  {
   "cell_type": "code",
   "execution_count": 6,
   "metadata": {},
   "outputs": [],
   "source": [
    "def column_type(col,data):\n",
    "    set =  len(data[col].unique())\n",
    "    col_len = len(col)\n",
    "    if (set<col_len):\n",
    "         print(\"Data in\" ,col,\"is categorical\")\n",
    "         print(\"Column has\",set,\"classes\")\n",
    "    else:\n",
    "         print(\"Data in\" ,col,\"is continuous\")\n",
    "           \n"
   ]
  },
  {
   "cell_type": "code",
   "execution_count": 7,
   "metadata": {},
   "outputs": [
    {
     "name": "stdout",
     "output_type": "stream",
     "text": [
      "Data in volatile acidity is continuous\n",
      "Data in pH is continuous\n"
     ]
    }
   ],
   "source": [
    "column_type('volatile acidity',data)\n",
    "column_type('pH',data)"
   ]
  },
  {
   "cell_type": "code",
   "execution_count": 8,
   "metadata": {},
   "outputs": [
    {
     "name": "stdout",
     "output_type": "stream",
     "text": [
      "Enter the intial parameter for feature range:0\n",
      "Enter the final parameter for feature range:10\n",
      "Enter the label iloc value:-1\n"
     ]
    }
   ],
   "source": [
    "#labels and features\n",
    "\n",
    "i_feat=int(input(\"Enter the intial parameter for feature range:\"))\n",
    "f_feat=int(input(\"Enter the final parameter for feature range:\"))\n",
    "label= int(input(\"Enter the label iloc value:\"))\n",
    "x = data.iloc[:,i_feat:f_feat].values\n",
    "y = data.iloc[:,label].values"
   ]
  },
  {
   "cell_type": "code",
   "execution_count": 9,
   "metadata": {
    "scrolled": false
   },
   "outputs": [
    {
     "name": "stdout",
     "output_type": "stream",
     "text": [
      "Features you opted for:\n",
      " [[7.4     0.7     0.      ... 0.9978  3.51    0.56   ]\n",
      " [7.8     0.88    0.      ... 0.9968  3.2     0.68   ]\n",
      " [7.8     0.76    0.04    ... 0.997   3.26    0.65   ]\n",
      " ...\n",
      " [6.3     0.51    0.13    ... 0.99574 3.42    0.75   ]\n",
      " [5.9     0.645   0.12    ... 0.99547 3.57    0.71   ]\n",
      " [6.      0.31    0.47    ... 0.99549 3.39    0.66   ]]\n"
     ]
    }
   ],
   "source": [
    "print(\"Features you opted for:\\n\",x)\n"
   ]
  },
  {
   "cell_type": "code",
   "execution_count": 10,
   "metadata": {},
   "outputs": [
    {
     "name": "stdout",
     "output_type": "stream",
     "text": [
      "Label you opted for:\n",
      " [5 5 5 ... 6 5 6]\n"
     ]
    }
   ],
   "source": [
    "print(\"Label you opted for:\\n\",y)"
   ]
  },
  {
   "cell_type": "markdown",
   "metadata": {},
   "source": [
    "# LINEAR REGRESSION"
   ]
  },
  {
   "cell_type": "code",
   "execution_count": 12,
   "metadata": {},
   "outputs": [
    {
     "name": "stdout",
     "output_type": "stream",
     "text": [
      "The predicted values are:\n",
      " [5.62669948 5.04462501 6.60662981 5.26602901 6.26403948 4.99256888\n",
      " 5.49127446 6.18305301 5.13528463 4.9853931  5.41785505 5.12328963\n",
      " 5.5088001  5.29265098 5.60113223 6.3757651  6.74633704 5.53840067\n",
      " 5.96482061 5.36394176 6.17374604 5.33928692 5.62813568 6.40681726\n",
      " 5.44121391 5.07838185 5.19376996 6.2216316  5.44594105 6.42041307\n",
      " 5.96475387 5.53572878 5.62810522 5.28693828 5.39588247 5.80757047\n",
      " 5.25906487 5.70510149 6.31267275 5.67608955 5.34925669 5.92149893\n",
      " 6.79452287 6.5859711  5.81605866 4.93267795 5.68752293 5.87633424\n",
      " 5.55401264 6.12186508 5.49991557 5.28619037 5.90075091 5.70376693\n",
      " 5.82579332 5.38646998 5.20691385 5.45805503 6.42811511 5.55583544\n",
      " 5.24138354 5.66342182 5.81691302 5.80466898 5.11595911 6.09425118\n",
      " 5.40059172 5.63309093 6.15597155 5.36899226 5.1994813  5.42846392\n",
      " 5.01994437 5.55117328 5.59534834 6.18135604 5.39789446 5.37078688\n",
      " 5.75585262 6.23039277 5.51521887 5.51597981 5.89044291 6.06786109\n",
      " 5.48640892 5.38134344 6.2681739  5.16510124 5.39908215 5.09054122\n",
      " 5.14484157 5.24067869 5.69840344 5.48643154 6.30032208 5.1994813\n",
      " 6.16675766 5.41245042 5.52145187 6.09280586 6.72831298 5.61830795\n",
      " 5.63788459 6.20538106 5.32736035 5.13023556 5.32736035 5.55039775\n",
      " 5.96436482 5.40794373 6.09408196 5.29119406 6.10200596 5.26047367\n",
      " 5.48524435 5.86507578 5.7331143  6.30079026 5.87492985 5.62813568\n",
      " 5.19344324 5.7893843  5.52565775 5.2609007  5.83343194 6.41147045\n",
      " 5.4404589  5.23904217 6.11798603 6.44248253 5.45272406 5.23086687\n",
      " 5.90997584 5.77605778 6.57949395 5.26535288 5.89392971 5.34592618\n",
      " 6.21054153 5.47578421 5.87903103 5.10157939 5.68752293 5.24574386\n",
      " 5.80846052 6.03662835 6.10200596 6.58402678 6.2572245  5.45360317\n",
      " 5.75113735 5.76154644 5.55039775 5.47017217 5.62719261 5.23981299\n",
      " 5.23515403 5.20384521 5.99455439 6.33587343 5.88014095 5.62183693\n",
      " 6.18625141 4.95201867 5.74347442 5.04398206 6.114316   6.37254445\n",
      " 5.15954048 5.92343049 5.90999861 5.67330668 5.06888417 6.49591608\n",
      " 5.73987955 5.9491098  6.14220087 6.56486324 5.91036721 4.94707433\n",
      " 5.14956421 6.65125448 5.49164545 6.34172478 6.43819952 5.07192397\n",
      " 5.58218013 5.63788459 4.96477038 6.00329813 5.97426148 5.81893878\n",
      " 4.97446707 5.583412   5.34796533 5.26940824 5.41785505 5.22821228\n",
      " 5.02379454 5.12777047 5.16412899 6.24597278 5.1805759  5.40067163\n",
      " 5.45695092 5.20559811 5.06704851 6.38003939 5.88566244 5.47641133\n",
      " 5.96478859 6.12189104 5.46066265 5.73211557 5.09965471 5.41629249\n",
      " 6.07804265 5.93971605 5.6094719  4.98791246 5.09875411 5.85323124\n",
      " 6.28669392 5.81941822 5.3535348  6.00581352 6.31017773 5.82699599\n",
      " 5.06408624 5.72188429 5.08112845 5.63935606 5.11608019 5.94676604\n",
      " 5.88774645 5.59837558 6.20757931 6.45183698 6.2974861  5.96150547\n",
      " 5.35247765 4.87116556 4.94060311 5.08969671 5.90027689 4.84531001\n",
      " 5.79090918 5.30083393 5.09729818 6.33107393 4.81764984 5.18824185\n",
      " 5.08539626 5.01963521 5.64601398 5.76446409 5.03980124 5.19335999\n",
      " 5.12333028 5.57181229 5.3515596  6.6909294  4.98638908 5.80828053\n",
      " 5.29180224 4.81546033 5.45268843 5.01925522 5.75670896 6.35895161\n",
      " 5.85750726 5.7960128  5.49008598 5.90345197 5.86051728 5.8483946\n",
      " 6.41885287 5.17495967 6.45016941 6.08887992 5.21675526 6.68082462\n",
      " 5.7960128  6.22566921 5.783666   5.20180723 5.58263431 5.4718069\n",
      " 6.40348755 5.85140475 5.65258354 5.37485199 6.01907688 5.26571945\n",
      " 5.14242407 5.47899353 5.64410783 5.23705574 5.24331761 4.98259199\n",
      " 5.55171516 5.05299155 5.28774403 5.6172493  6.00437688 5.71905705\n",
      " 5.20839414 5.19003161 5.74357962 5.51067775 5.69825908 5.73131827\n",
      " 5.46450167 5.41245042 5.04024271 6.34200784 5.97719088 6.38209769\n",
      " 5.13160644 6.06348878]\n",
      "Linear Regression Accuracy:0.271589\n"
     ]
    },
    {
     "data": {
      "text/plain": [
       "<matplotlib.collections.PathCollection at 0x264ecc39898>"
      ]
     },
     "execution_count": 12,
     "metadata": {},
     "output_type": "execute_result"
    },
    {
     "data": {
      "image/png": "[encoded data removed]",
      "text/plain": [
       "<Figure size 432x288 with 1 Axes>"
      ]
     },
     "metadata": {
      "needs_background": "light"
     },
     "output_type": "display_data"
    }
   ],
   "source": [
    "#from sklearn.cross_validation import train_test_split\n",
    "from sklearn.model_selection import train_test_split\n",
    "x_train,x_test,y_train,y_test = train_test_split(x,y,test_size = 0.2,random_state=0)\n",
    "from sklearn.linear_model import LinearRegression\n",
    "regressor = LinearRegression()\n",
    "regressor.fit(x_train,y_train)\n",
    "y_pred = regressor.predict(x_test)\n",
    "print(\"The predicted values are:\\n\",y_pred)\n",
    "from sklearn.metrics import r2_score  #direct module for calculating r square error\n",
    "linear_score = r2_score(y_test,y_pred)\n",
    "print('Linear Regression Accuracy:{0:f}'.format(linear_score))\n",
    "\n",
    "plt.scatter(y_test,y_pred)\n",
    "\n",
    "\n"
   ]
  },
  {
   "cell_type": "markdown",
   "metadata": {},
   "source": [
    "# LOGISTIC REGRESSION"
   ]
  },
  {
   "cell_type": "code",
   "execution_count": 13,
   "metadata": {},
   "outputs": [
    {
     "name": "stdout",
     "output_type": "stream",
     "text": [
      "The predicted values are:\n",
      " [5 5 6 5 6 5 5 6 5 5 5 5 6 5 6 6 6 6 6 5 6 5 6 5 6 5 5 6 5 6 6 6 6 5 5 6 5\n",
      " 6 6 6 5 6 5 6 6 5 6 5 5 6 6 5 6 5 6 5 5 5 6 6 6 6 6 6 5 6 5 6 6 6 5 6 5 5\n",
      " 5 6 6 5 5 6 5 5 6 6 5 6 5 5 5 5 5 5 6 5 6 5 6 5 6 6 6 6 5 6 5 5 5 6 6 5 6\n",
      " 5 6 5 5 6 6 6 6 6 5 6 6 5 5 6 5 5 6 6 5 6 6 6 7 5 6 5 6 6 5 5 6 6 6 6 6 6\n",
      " 6 6 6 6 6 6 6 5 5 5 6 6 6 6 6 5 5 5 6 6 5 6 5 6 5 6 6 5 7 6 6 5 5 6 6 6 6\n",
      " 5 6 5 5 6 6 5 5 6 5 5 5 5 5 5 5 6 5 6 5 5 5 6 6 5 5 5 6 5 5 6 6 6 6 5 5 6\n",
      " 6 6 5 6 6 6 5 6 5 6 5 5 6 6 6 6 6 6 5 5 5 5 6 5 6 5 5 5 5 5 5 5 6 6 5 5 5\n",
      " 5 6 6 5 6 5 5 6 5 6 6 6 6 5 5 6 6 6 5 6 6 5 6 6 6 6 5 5 6 6 6 6 5 6 6 5 6\n",
      " 5 5 5 5 5 5 5 6 6 6 5 5 5 5 5 6 6 5 5 6 6 6 5 6]\n",
      "Logistic Regression Accuracy:0.082907\n"
     ]
    },
    {
     "name": "stderr",
     "output_type": "stream",
     "text": [
      "c:\\users\\rajat\\appdata\\local\\programs\\python\\python36\\lib\\site-packages\\sklearn\\linear_model\\logistic.py:433: FutureWarning: Default solver will be changed to 'lbfgs' in 0.22. Specify a solver to silence this warning.\n",
      "  FutureWarning)\n",
      "c:\\users\\rajat\\appdata\\local\\programs\\python\\python36\\lib\\site-packages\\sklearn\\linear_model\\logistic.py:460: FutureWarning: Default multi_class will be changed to 'auto' in 0.22. Specify the multi_class option to silence this warning.\n",
      "  \"this warning.\", FutureWarning)\n"
     ]
    },
    {
     "data": {
      "text/plain": [
       "<matplotlib.collections.PathCollection at 0x264eecc2c88>"
      ]
     },
     "execution_count": 13,
     "metadata": {},
     "output_type": "execute_result"
    },
    {
     "data": {
      "image/png": "[encoded data removed]",
      "text/plain": [
       "<Figure size 432x288 with 1 Axes>"
      ]
     },
     "metadata": {
      "needs_background": "light"
     },
     "output_type": "display_data"
    }
   ],
   "source": [
    "from sklearn.model_selection import train_test_split\n",
    "x_train, x_test, y_train, y_test = train_test_split(x,y,test_size= 0.2,random_state= 0)\n",
    "\n",
    "from sklearn.linear_model import LogisticRegression\n",
    "classifier = LogisticRegression(random_state = 0)\n",
    "classifier.fit(x_train , y_train)\n",
    "\n",
    "y_pred = classifier.predict(x_test)\n",
    "print(\"The predicted values are:\\n\",y_pred)\n",
    "\n",
    "from sklearn.metrics import r2_score,confusion_matrix\n",
    "logistic_score=r2_score(y_test,y_pred)\n",
    "\n",
    "print('Logistic Regression Accuracy:{0:f}'.format(logistic_score))\n",
    "\n",
    "plt.scatter(y_test,y_pred)\n"
   ]
  },
  {
   "cell_type": "markdown",
   "metadata": {},
   "source": [
    "# KNN"
   ]
  },
  {
   "cell_type": "code",
   "execution_count": 14,
   "metadata": {},
   "outputs": [
    {
     "name": "stdout",
     "output_type": "stream",
     "text": [
      "The predicted values are:\n",
      " [5 6 7 6 6 5 6 6 6 5 6 5 5 5 5 5 7 6 5 5 6 6 6 5 6 5 6 5 5 6 6 5 5 5 6 6 5\n",
      " 6 6 6 6 6 6 5 6 6 5 6 5 6 6 5 5 7 6 5 5 6 5 5 5 6 6 6 5 5 5 5 7 7 5 5 7 5\n",
      " 6 6 5 6 5 6 5 6 4 6 5 5 5 5 5 5 5 5 5 5 5 5 5 6 6 6 6 5 5 6 5 6 5 7 6 5 6\n",
      " 5 6 6 5 6 5 7 7 6 5 7 5 5 7 5 5 5 5 5 5 5 5 5 6 5 6 5 6 6 6 5 5 5 5 6 6 6\n",
      " 5 6 5 5 7 6 6 6 6 6 5 6 6 6 5 6 5 5 6 5 6 5 5 6 6 5 5 6 5 7 6 5 5 6 6 6 6\n",
      " 5 6 5 5 6 6 5 5 6 5 5 6 5 5 5 6 6 6 6 5 5 6 6 6 5 5 5 5 5 5 5 6 6 5 5 6 5\n",
      " 7 6 6 5 5 5 8 4 5 5 5 5 6 6 6 5 5 6 6 5 6 6 5 5 5 5 5 5 5 5 5 6 5 5 5 6 5\n",
      " 7 5 6 5 5 5 5 6 5 5 5 5 5 6 5 6 6 7 6 5 6 6 6 5 5 5 5 5 5 6 6 5 5 5 5 5 6\n",
      " 5 5 5 5 6 4 7 5 5 6 5 5 6 5 5 6 5 6 6 6 5 6 5 7]\n",
      "KNN Accuracy:0.487500\n"
     ]
    },
    {
     "data": {
      "text/plain": [
       "<matplotlib.collections.PathCollection at 0x264eed27dd8>"
      ]
     },
     "execution_count": 14,
     "metadata": {},
     "output_type": "execute_result"
    },
    {
     "data": {
      "image/png": "[encoded data removed]",
      "text/plain": [
       "<Figure size 432x288 with 1 Axes>"
      ]
     },
     "metadata": {
      "needs_background": "light"
     },
     "output_type": "display_data"
    }
   ],
   "source": [
    "from sklearn.model_selection import train_test_split\n",
    "x_train,x_test,y_train,y_test = train_test_split(x,y,test_size = 0.2,random_state=0)\n",
    "\n",
    "from sklearn.neighbors import KNeighborsClassifier\n",
    "model = KNeighborsClassifier(n_neighbors=5)\n",
    "model.fit(x_train,y_train)\n",
    "\n",
    "y_pred = model.predict(x_test)\n",
    "print(\"The predicted values are:\\n\",y_pred)\n",
    "\n",
    "from sklearn.metrics import accuracy_score\n",
    "knn_score = accuracy_score(y_test, y_pred)\n",
    "\n",
    "print('KNN Accuracy:{0:f}'.format(knn_score))\n",
    "\n",
    "plt.scatter(y_test,y_pred)\n"
   ]
  },
  {
   "cell_type": "markdown",
   "metadata": {},
   "source": [
    "# K-Means"
   ]
  },
  {
   "cell_type": "code",
   "execution_count": 15,
   "metadata": {},
   "outputs": [
    {
     "name": "stdout",
     "output_type": "stream",
     "text": [
      "The predicted values are:\n",
      " [1 0 0 0 0 1 0 1 0 1 0 0 0 3 4 1 0 0 0 0 0 0 4 3 4 2 3 4 2 4 0 1 1 4 1 0 1\n",
      " 0 4 0 1 0 3 0 0 3 0 1 4 1 0 4 4 4 4 3 2 4 0 0 4 4 4 4 4 0 0 0 0 0 1 1 0 1\n",
      " 1 4 0 1 3 4 1 3 0 0 4 0 3 4 4 4 2 1 0 0 0 1 4 0 0 0 0 0 1 1 4 0 4 1 4 4 0\n",
      " 4 4 3 0 4 0 0 0 4 3 4 4 1 3 0 3 3 0 0 1 0 0 0 0 3 4 1 0 0 0 3 0 0 0 0 4 0\n",
      " 4 4 1 0 1 0 0 4 4 0 4 1 4 4 4 1 0 4 1 4 1 0 1 4 0 0 0 4 0 0 0 3 1 4 4 4 0\n",
      " 1 4 1 2 1 4 1 0 0 1 3 0 0 4 2 3 0 3 0 1 3 4 1 4 1 4 2 1 1 0 4 0 4 4 2 4 4\n",
      " 4 4 4 1 4 0 0 0 3 0 0 1 0 4 0 4 0 0 4 4 4 0 0 3 4 3 1 1 3 0 3 4 0 4 2 4 3\n",
      " 4 4 1 1 0 0 0 0 3 0 3 4 4 0 1 0 4 0 3 0 0 4 1 4 4 0 3 0 0 4 1 1 0 0 0 1 0\n",
      " 1 4 1 1 4 0 0 1 0 1 0 0 3 4 3 4 4 0 1 0 0 0 0 0]\n",
      "Kmeans Accuracy:0.000000\n"
     ]
    },
    {
     "data": {
      "text/plain": [
       "<matplotlib.collections.PathCollection at 0x264eef48d68>"
      ]
     },
     "execution_count": 15,
     "metadata": {},
     "output_type": "execute_result"
    },
    {
     "data": {
      "image/png": "[encoded data removed]",
      "text/plain": [
       "<Figure size 432x288 with 1 Axes>"
      ]
     },
     "metadata": {
      "needs_background": "light"
     },
     "output_type": "display_data"
    }
   ],
   "source": [
    "from sklearn.model_selection import train_test_split\n",
    "x_train,x_test,y_train,y_test = train_test_split(x,y,test_size = 0.2,random_state=0)\n",
    "\n",
    "from sklearn.cluster import KMeans\n",
    "\n",
    "kmeans =KMeans(n_clusters = 5, init = \"k-means++\")\n",
    "kmeans.fit_predict(x_train,y_train)\n",
    "y_pred = kmeans.predict(x_test)\n",
    "print(\"The predicted values are:\\n\",y_pred)\n",
    "\n",
    "from sklearn.metrics import accuracy_score\n",
    "kmeans_score = accuracy_score(y_test, y_pred)\n",
    "\n",
    "print('Kmeans Accuracy:{0:f}'.format(kmeans_score))\n",
    "\n",
    "\n",
    "plt.scatter(y_test,y_pred)\n"
   ]
  },
  {
   "cell_type": "markdown",
   "metadata": {},
   "source": [
    "# Random Forest"
   ]
  },
  {
   "cell_type": "code",
   "execution_count": 21,
   "metadata": {},
   "outputs": [
    {
     "name": "stdout",
     "output_type": "stream",
     "text": [
      "The predicted values are:\n",
      " [5.62669948 5.04462501 6.60662981 5.26602901 6.26403948 4.99256888\n",
      " 5.49127446 6.18305301 5.13528463 4.9853931  5.41785505 5.12328963\n",
      " 5.5088001  5.29265098 5.60113223 6.3757651  6.74633704 5.53840067\n",
      " 5.96482061 5.36394176 6.17374604 5.33928692 5.62813568 6.40681726\n",
      " 5.44121391 5.07838185 5.19376996 6.2216316  5.44594105 6.42041307\n",
      " 5.96475387 5.53572878 5.62810522 5.28693828 5.39588247 5.80757047\n",
      " 5.25906487 5.70510149 6.31267275 5.67608955 5.34925669 5.92149893\n",
      " 6.79452287 6.5859711  5.81605866 4.93267795 5.68752293 5.87633424\n",
      " 5.55401264 6.12186508 5.49991557 5.28619037 5.90075091 5.70376693\n",
      " 5.82579332 5.38646998 5.20691385 5.45805503 6.42811511 5.55583544\n",
      " 5.24138354 5.66342182 5.81691302 5.80466898 5.11595911 6.09425118\n",
      " 5.40059172 5.63309093 6.15597155 5.36899226 5.1994813  5.42846392\n",
      " 5.01994437 5.55117328 5.59534834 6.18135604 5.39789446 5.37078688\n",
      " 5.75585262 6.23039277 5.51521887 5.51597981 5.89044291 6.06786109\n",
      " 5.48640892 5.38134344 6.2681739  5.16510124 5.39908215 5.09054122\n",
      " 5.14484157 5.24067869 5.69840344 5.48643154 6.30032208 5.1994813\n",
      " 6.16675766 5.41245042 5.52145187 6.09280586 6.72831298 5.61830795\n",
      " 5.63788459 6.20538106 5.32736035 5.13023556 5.32736035 5.55039775\n",
      " 5.96436482 5.40794373 6.09408196 5.29119406 6.10200596 5.26047367\n",
      " 5.48524435 5.86507578 5.7331143  6.30079026 5.87492985 5.62813568\n",
      " 5.19344324 5.7893843  5.52565775 5.2609007  5.83343194 6.41147045\n",
      " 5.4404589  5.23904217 6.11798603 6.44248253 5.45272406 5.23086687\n",
      " 5.90997584 5.77605778 6.57949395 5.26535288 5.89392971 5.34592618\n",
      " 6.21054153 5.47578421 5.87903103 5.10157939 5.68752293 5.24574386\n",
      " 5.80846052 6.03662835 6.10200596 6.58402678 6.2572245  5.45360317\n",
      " 5.75113735 5.76154644 5.55039775 5.47017217 5.62719261 5.23981299\n",
      " 5.23515403 5.20384521 5.99455439 6.33587343 5.88014095 5.62183693\n",
      " 6.18625141 4.95201867 5.74347442 5.04398206 6.114316   6.37254445\n",
      " 5.15954048 5.92343049 5.90999861 5.67330668 5.06888417 6.49591608\n",
      " 5.73987955 5.9491098  6.14220087 6.56486324 5.91036721 4.94707433\n",
      " 5.14956421 6.65125448 5.49164545 6.34172478 6.43819952 5.07192397\n",
      " 5.58218013 5.63788459 4.96477038 6.00329813 5.97426148 5.81893878\n",
      " 4.97446707 5.583412   5.34796533 5.26940824 5.41785505 5.22821228\n",
      " 5.02379454 5.12777047 5.16412899 6.24597278 5.1805759  5.40067163\n",
      " 5.45695092 5.20559811 5.06704851 6.38003939 5.88566244 5.47641133\n",
      " 5.96478859 6.12189104 5.46066265 5.73211557 5.09965471 5.41629249\n",
      " 6.07804265 5.93971605 5.6094719  4.98791246 5.09875411 5.85323124\n",
      " 6.28669392 5.81941822 5.3535348  6.00581352 6.31017773 5.82699599\n",
      " 5.06408624 5.72188429 5.08112845 5.63935606 5.11608019 5.94676604\n",
      " 5.88774645 5.59837558 6.20757931 6.45183698 6.2974861  5.96150547\n",
      " 5.35247765 4.87116556 4.94060311 5.08969671 5.90027689 4.84531001\n",
      " 5.79090918 5.30083393 5.09729818 6.33107393 4.81764984 5.18824185\n",
      " 5.08539626 5.01963521 5.64601398 5.76446409 5.03980124 5.19335999\n",
      " 5.12333028 5.57181229 5.3515596  6.6909294  4.98638908 5.80828053\n",
      " 5.29180224 4.81546033 5.45268843 5.01925522 5.75670896 6.35895161\n",
      " 5.85750726 5.7960128  5.49008598 5.90345197 5.86051728 5.8483946\n",
      " 6.41885287 5.17495967 6.45016941 6.08887992 5.21675526 6.68082462\n",
      " 5.7960128  6.22566921 5.783666   5.20180723 5.58263431 5.4718069\n",
      " 6.40348755 5.85140475 5.65258354 5.37485199 6.01907688 5.26571945\n",
      " 5.14242407 5.47899353 5.64410783 5.23705574 5.24331761 4.98259199\n",
      " 5.55171516 5.05299155 5.28774403 5.6172493  6.00437688 5.71905705\n",
      " 5.20839414 5.19003161 5.74357962 5.51067775 5.69825908 5.73131827\n",
      " 5.46450167 5.41245042 5.04024271 6.34200784 5.97719088 6.38209769\n",
      " 5.13160644 6.06348878]\n",
      "The classifier score generated is:  0.615625\n",
      "Random_forest_score Accuracy:0.271589\n"
     ]
    },
    {
     "data": {
      "text/plain": [
       "<matplotlib.collections.PathCollection at 0x264f0120198>"
      ]
     },
     "execution_count": 21,
     "metadata": {},
     "output_type": "execute_result"
    },
    {
     "data": {
      "image/png": "[encoded data removed]",
      "text/plain": [
       "<Figure size 432x288 with 1 Axes>"
      ]
     },
     "metadata": {
      "needs_background": "light"
     },
     "output_type": "display_data"
    }
   ],
   "source": [
    "from sklearn.ensemble import RandomForestClassifier\n",
    "\n",
    "from sklearn.model_selection import train_test_split\n",
    "x_train,x_test,y_train,y_test = train_test_split(x,y,test_size = 0.2,random_state=0)\n",
    "\n",
    "\n",
    "classifier = RandomForestClassifier(n_estimators=4)\n",
    "classifier.fit(x_train,y_train)\n",
    "y_pred = classifier.predict(x_test)\n",
    "\n",
    "y_pred = regressor.predict(x_test)\n",
    "print(\"The predicted values are:\\n\",y_pred)\n",
    "\n",
    "\n",
    "Classifier_score = classifier.score(x_test,y_test)\n",
    "print(\"The classifier score generated is: \",Classifier_score)\n",
    "\n",
    "from sklearn.metrics import r2_score,confusion_matrix\n",
    "Random_forest_score=r2_score(y_test,y_pred)\n",
    "print('Random_forest_score Accuracy:{0:f}'.format(Random_forest_score))\n",
    "\n",
    "plt.scatter(y_test,y_pred)\n"
   ]
  },
  {
   "cell_type": "markdown",
   "metadata": {},
   "source": [
    "# Decision Tree"
   ]
  },
  {
   "cell_type": "code",
   "execution_count": 22,
   "metadata": {},
   "outputs": [
    {
     "name": "stdout",
     "output_type": "stream",
     "text": [
      "The predicted values are:\n",
      " [5 3 7 5 5 6 5 6 6 5 5 5 6 7 7 6 7 5 4 5 6 6 6 6 5 5 5 7 6 6 5 6 6 6 7 7 5\n",
      " 6 6 6 4 5 6 7 6 5 5 6 5 6 5 6 6 6 5 5 5 5 6 5 6 6 6 6 6 7 5 5 8 6 6 6 4 6\n",
      " 6 6 5 5 5 7 6 5 6 7 6 5 6 5 5 5 5 6 3 6 7 6 8 5 5 6 7 6 5 6 6 5 6 6 6 5 6\n",
      " 5 7 5 6 6 5 7 5 6 5 5 5 5 5 6 5 5 5 6 5 6 6 5 6 5 6 5 7 5 6 5 5 5 6 6 7 6\n",
      " 5 5 5 5 6 5 6 6 5 5 4 6 5 5 6 6 5 5 6 7 6 6 6 6 5 7 4 7 7 6 7 5 5 7 6 7 6\n",
      " 6 6 5 5 5 6 5 6 6 5 5 5 6 5 5 5 6 6 6 4 6 5 6 7 6 6 6 6 7 5 6 5 7 6 5 5 5\n",
      " 7 5 6 6 6 7 6 6 5 6 5 5 6 6 6 7 7 6 5 6 5 4 6 5 5 5 5 6 5 5 6 5 4 6 5 6 5\n",
      " 7 6 6 6 6 6 5 5 6 6 7 5 6 5 5 6 6 7 6 6 7 4 6 6 5 6 5 6 6 7 6 5 4 6 6 5 6\n",
      " 5 6 5 5 6 5 6 5 5 6 5 5 7 5 5 6 5 5 5 6 5 7 6 6]\n",
      "Decision_tree_score Accuracy:-0.004435\n"
     ]
    },
    {
     "data": {
      "text/plain": [
       "<matplotlib.collections.PathCollection at 0x264f0174dd8>"
      ]
     },
     "execution_count": 22,
     "metadata": {},
     "output_type": "execute_result"
    },
    {
     "data": {
      "image/png": "[encoded data removed]",
      "text/plain": [
       "<Figure size 432x288 with 1 Axes>"
      ]
     },
     "metadata": {
      "needs_background": "light"
     },
     "output_type": "display_data"
    }
   ],
   "source": [
    "from sklearn.tree import DecisionTreeClassifier\n",
    "\n",
    "from sklearn.model_selection import train_test_split\n",
    "x_train,x_test,y_train,y_test = train_test_split(x,y,test_size = 0.2,random_state=0)\n",
    "\n",
    "classifier = DecisionTreeClassifier()\n",
    "classifier.fit(x_train,y_train)\n",
    "\n",
    "y_pred = classifier.predict(x_test)\n",
    "print(\"The predicted values are:\\n\",y_pred)\n",
    "\n",
    "from sklearn.metrics import r2_score,confusion_matrix\n",
    "Decision_tree_score=r2_score(y_test,y_pred)\n",
    "print('Decision_tree_score Accuracy:{0:f}'.format(Decision_tree_score))\n",
    "\n",
    "plt.scatter(y_test,y_pred)"
   ]
  },
  {
   "cell_type": "markdown",
   "metadata": {},
   "source": [
    "# SVM"
   ]
  },
  {
   "cell_type": "code",
   "execution_count": 23,
   "metadata": {},
   "outputs": [
    {
     "name": "stdout",
     "output_type": "stream",
     "text": [
      "The predicted values are:\n",
      " [6 5 6 5 6 5 5 6 5 5 5 5 6 5 6 6 6 6 6 5 6 5 6 5 6 5 5 6 5 6 6 6 6 6 5 6 5\n",
      " 6 6 6 6 6 6 6 6 5 6 6 6 6 6 5 6 6 6 5 5 5 6 6 6 6 6 6 5 6 5 6 6 6 5 6 5 5\n",
      " 5 6 6 6 5 6 5 5 6 6 5 6 5 5 6 5 5 5 6 5 6 5 6 6 6 6 6 6 5 6 5 5 5 6 6 5 6\n",
      " 5 6 5 6 6 6 6 6 6 5 6 6 5 5 6 5 5 6 6 6 6 6 6 6 5 6 5 6 6 5 5 6 6 6 6 6 6\n",
      " 6 6 6 6 6 6 6 5 5 5 6 6 6 6 6 6 6 5 6 6 5 6 6 6 6 6 6 5 6 6 6 5 5 6 6 6 6\n",
      " 5 6 5 5 6 6 5 6 6 5 5 5 5 5 5 5 6 5 6 5 5 5 6 6 6 6 5 6 5 6 6 6 6 6 5 5 6\n",
      " 6 6 6 6 6 6 5 6 5 6 5 6 6 6 6 6 6 6 6 5 5 5 6 5 6 5 5 6 5 5 5 5 6 6 5 5 5\n",
      " 6 6 6 5 6 5 5 6 5 6 6 6 6 6 5 6 6 6 5 6 6 5 6 6 6 6 5 6 6 6 6 6 5 6 6 5 6\n",
      " 5 5 5 5 6 5 6 6 6 6 5 5 6 6 5 6 6 6 5 6 6 6 5 6]\n",
      "The confusion matrix generated is:\n",
      " [[  0   0   2   0   0   0]\n",
      " [  0   0   8   3   0   0]\n",
      " [  0   0  77  58   0   0]\n",
      " [  0   0  29 113   0   0]\n",
      " [  0   0   2  25   0   0]\n",
      " [  0   0   0   3   0   0]]\n",
      "The classification report is:\n",
      "               precision    recall  f1-score   support\n",
      "\n",
      "           3       0.00      0.00      0.00         2\n",
      "           4       0.00      0.00      0.00        11\n",
      "           5       0.65      0.57      0.61       135\n",
      "           6       0.56      0.80      0.66       142\n",
      "           7       0.00      0.00      0.00        27\n",
      "           8       0.00      0.00      0.00         3\n",
      "\n",
      "   micro avg       0.59      0.59      0.59       320\n",
      "   macro avg       0.20      0.23      0.21       320\n",
      "weighted avg       0.52      0.59      0.55       320\n",
      "\n",
      "SVM_score Accuracy:0.126578\n"
     ]
    },
    {
     "name": "stderr",
     "output_type": "stream",
     "text": [
      "c:\\users\\rajat\\appdata\\local\\programs\\python\\python36\\lib\\site-packages\\sklearn\\metrics\\classification.py:1143: UndefinedMetricWarning: Precision and F-score are ill-defined and being set to 0.0 in labels with no predicted samples.\n",
      "  'precision', 'predicted', average, warn_for)\n"
     ]
    },
    {
     "data": {
      "text/plain": [
       "<matplotlib.collections.PathCollection at 0x264f01ccd68>"
      ]
     },
     "execution_count": 23,
     "metadata": {},
     "output_type": "execute_result"
    },
    {
     "data": {
      "image/png": "[encoded data removed]",
      "text/plain": [
       "<Figure size 432x288 with 1 Axes>"
      ]
     },
     "metadata": {
      "needs_background": "light"
     },
     "output_type": "display_data"
    }
   ],
   "source": [
    "\n",
    "from sklearn.svm import SVC\n",
    "\n",
    "from sklearn.model_selection import train_test_split\n",
    "x_train,x_test,y_train,y_test = train_test_split(x,y,test_size = 0.2,random_state=0)\n",
    "\n",
    "svclassifier = SVC(kernel='linear')\n",
    "#svclassifier = SVC(kernel='poly', degree=8)\n",
    "\n",
    "svclassifier.fit(x_train, y_train)\n",
    "y_pred = (svclassifier.predict(x_test))\n",
    "print(\"The predicted values are:\\n\",y_pred)\n",
    "\n",
    "from sklearn.metrics import classification_report, confusion_matrix,r2_score\n",
    "\n",
    "print(\"The confusion matrix generated is:\\n\",confusion_matrix(y_test,y_pred))\n",
    "print(\"The classification report is:\\n\",classification_report(y_test,y_pred))\n",
    "\n",
    "SVM_score=r2_score(y_test,y_pred)\n",
    "print('SVM_score Accuracy:{0:f}'.format(SVM_score))\n",
    "\n",
    "plt.scatter(y_test,y_pred)"
   ]
  },
  {
   "cell_type": "markdown",
   "metadata": {},
   "source": [
    "# RESULT"
   ]
  },
  {
   "cell_type": "code",
   "execution_count": 24,
   "metadata": {},
   "outputs": [
    {
     "name": "stdout",
     "output_type": "stream",
     "text": [
      "Linear_score Accuracy:0.271589\n",
      "Logistic_score Accuracy:0.082907\n",
      "KMEANS_score Accuracy:0.000000\n",
      "KNN_score Accuracy:0.487500\n",
      "Decision_tree_score Accuracy:-0.004435\n",
      "Random_forest_score Accuracy:0.271589\n",
      "SVM_score Accuracy:0.126578\n",
      "The maximum accuracy is: 0.487500\n"
     ]
    }
   ],
   "source": [
    "print('Linear_score Accuracy:{0:f}'.format(linear_score))\n",
    "print('Logistic_score Accuracy:{0:f}'.format(logistic_score))\n",
    "print('KMEANS_score Accuracy:{0:f}'.format(kmeans_score))\n",
    "print('KNN_score Accuracy:{0:f}'.format(knn_score))\n",
    "print('Decision_tree_score Accuracy:{0:f}'.format(Decision_tree_score))\n",
    "print('Random_forest_score Accuracy:{0:f}'.format(Random_forest_score))\n",
    "print('SVM_score Accuracy:{0:f}'.format(SVM_score))\n",
    "\n",
    "\n",
    "max_accuracy=max(linear_score,logistic_score,knn_score,Decision_tree_score,Random_forest_score,SVM_score)\n",
    "print(\"The maximum accuracy is: {0:f}\".format(max_accuracy))\n",
    "\n",
    "\n"
   ]
  },
  {
   "cell_type": "code",
   "execution_count": null,
   "metadata": {},
   "outputs": [],
   "source": []
  }
 ],
 "metadata": {
  "kernelspec": {
   "display_name": "Python 3",
   "language": "python",
   "name": "python3"
  },
  "language_info": {
   "codemirror_mode": {
    "name": "ipython",
    "version": 3
   },
   "file_extension": ".py",
   "mimetype": "text/x-python",
   "name": "python",
   "nbconvert_exporter": "python",
   "pygments_lexer": "ipython3",
   "version": "3.6.4"
  }
 },
 "nbformat": 4,
 "nbformat_minor": 2
}
